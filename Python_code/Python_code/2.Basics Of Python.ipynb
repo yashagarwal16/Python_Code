{
 "cells": [
  {
   "cell_type": "markdown",
   "id": "4b66c27c",
   "metadata": {},
   "source": [
    "## Tutorial 2-Basics Of Python"
   ]
  },
  {
   "cell_type": "code",
   "execution_count": 9,
   "id": "1460d842",
   "metadata": {},
   "outputs": [
    {
     "name": "stdout",
     "output_type": "stream",
     "text": [
      "Hello world\n",
      "Welcome To my channel\n"
     ]
    }
   ],
   "source": [
    "print(\"Hello world\")\n",
    "print(\"Welcome To my channel\")"
   ]
  },
  {
   "cell_type": "code",
   "execution_count": 10,
   "id": "ff2a1db5",
   "metadata": {},
   "outputs": [
    {
     "name": "stdout",
     "output_type": "stream",
     "text": [
      "Hello\n"
     ]
    }
   ],
   "source": [
    "# Single Line and multiline comments\n",
    "'''\n",
    "Welcome to my youtube\n",
    "channel\n",
    "\n",
    "'''\n",
    "print(\"Hello\")"
   ]
  },
  {
   "cell_type": "code",
   "execution_count": 11,
   "id": "f1f52097",
   "metadata": {},
   "outputs": [
    {
     "data": {
      "text/plain": [
       "int"
      ]
     },
     "execution_count": 11,
     "metadata": {},
     "output_type": "execute_result"
    }
   ],
   "source": [
    "# Variable declaration\n",
    "a=10\n",
    "type(a)"
   ]
  },
  {
   "cell_type": "code",
   "execution_count": 13,
   "id": "99b7d3b2",
   "metadata": {},
   "outputs": [
    {
     "name": "stdout",
     "output_type": "stream",
     "text": [
      "10\n"
     ]
    }
   ],
   "source": [
    "print(a)"
   ]
  },
  {
   "cell_type": "code",
   "execution_count": 14,
   "id": "7cb6bf2b",
   "metadata": {},
   "outputs": [],
   "source": [
    "tenth=10\n",
    "b=40\n",
    "c=\"krish\""
   ]
  },
  {
   "cell_type": "code",
   "execution_count": 15,
   "id": "0c83a576",
   "metadata": {},
   "outputs": [
    {
     "data": {
      "text/plain": [
       "str"
      ]
     },
     "execution_count": 15,
     "metadata": {},
     "output_type": "execute_result"
    }
   ],
   "source": [
    "type(c)"
   ]
  },
  {
   "cell_type": "code",
   "execution_count": 17,
   "id": "3be23525",
   "metadata": {},
   "outputs": [],
   "source": [
    "a1=10"
   ]
  },
  {
   "cell_type": "code",
   "execution_count": 18,
   "id": "270c3219",
   "metadata": {},
   "outputs": [
    {
     "name": "stdout",
     "output_type": "stream",
     "text": [
      "Krish\n"
     ]
    }
   ],
   "source": [
    "first_name=\"Krish\"\n",
    "print(first_name)"
   ]
  },
  {
   "cell_type": "code",
   "execution_count": 19,
   "id": "86d852e9",
   "metadata": {},
   "outputs": [
    {
     "data": {
      "text/plain": [
       "int"
      ]
     },
     "execution_count": 19,
     "metadata": {},
     "output_type": "execute_result"
    }
   ],
   "source": [
    "##integers\n",
    "a=10\n",
    "type(a)"
   ]
  },
  {
   "cell_type": "code",
   "execution_count": 20,
   "id": "36c687e8",
   "metadata": {},
   "outputs": [
    {
     "data": {
      "text/plain": [
       "20"
      ]
     },
     "execution_count": 20,
     "metadata": {},
     "output_type": "execute_result"
    }
   ],
   "source": [
    "a+10"
   ]
  },
  {
   "cell_type": "code",
   "execution_count": 21,
   "id": "fdf68fed",
   "metadata": {},
   "outputs": [
    {
     "data": {
      "text/plain": [
       "100"
      ]
     },
     "execution_count": 21,
     "metadata": {},
     "output_type": "execute_result"
    }
   ],
   "source": [
    "a*10"
   ]
  },
  {
   "cell_type": "code",
   "execution_count": 22,
   "id": "d65cbce7",
   "metadata": {},
   "outputs": [
    {
     "data": {
      "text/plain": [
       "1.0"
      ]
     },
     "execution_count": 22,
     "metadata": {},
     "output_type": "execute_result"
    }
   ],
   "source": [
    "a/10\n"
   ]
  },
  {
   "cell_type": "code",
   "execution_count": 23,
   "id": "657d0105",
   "metadata": {},
   "outputs": [
    {
     "data": {
      "text/plain": [
       "0"
      ]
     },
     "execution_count": 23,
     "metadata": {},
     "output_type": "execute_result"
    }
   ],
   "source": [
    "a%10"
   ]
  },
  {
   "cell_type": "code",
   "execution_count": 24,
   "id": "d3be14c0",
   "metadata": {},
   "outputs": [
    {
     "name": "stdout",
     "output_type": "stream",
     "text": [
      "<class 'int'>\n"
     ]
    }
   ],
   "source": [
    "print(type(a))"
   ]
  },
  {
   "cell_type": "code",
   "execution_count": 25,
   "id": "231d4979",
   "metadata": {},
   "outputs": [
    {
     "name": "stdout",
     "output_type": "stream",
     "text": [
      "30\n"
     ]
    }
   ],
   "source": [
    "a=10\n",
    "b=20\n",
    "print(a+b)"
   ]
  },
  {
   "cell_type": "code",
   "execution_count": 27,
   "id": "8de499da",
   "metadata": {},
   "outputs": [
    {
     "data": {
      "text/plain": [
       "190.5"
      ]
     },
     "execution_count": 27,
     "metadata": {},
     "output_type": "execute_result"
    }
   ],
   "source": [
    "#floating\n",
    "a=190.5\n",
    "a"
   ]
  },
  {
   "cell_type": "code",
   "execution_count": 28,
   "id": "6695daa3",
   "metadata": {},
   "outputs": [
    {
     "name": "stdout",
     "output_type": "stream",
     "text": [
      "<class 'float'>\n"
     ]
    }
   ],
   "source": [
    "##Typecasting\n",
    "print(type(a))"
   ]
  },
  {
   "cell_type": "code",
   "execution_count": 30,
   "id": "7a2cfe0a",
   "metadata": {},
   "outputs": [
    {
     "data": {
      "text/plain": [
       "20.0"
      ]
     },
     "execution_count": 30,
     "metadata": {},
     "output_type": "execute_result"
    }
   ],
   "source": [
    "float(b)"
   ]
  },
  {
   "cell_type": "code",
   "execution_count": 31,
   "id": "0c7eca94",
   "metadata": {},
   "outputs": [],
   "source": [
    "##Boolean\n",
    "a1=True\n",
    "b1=False"
   ]
  },
  {
   "cell_type": "code",
   "execution_count": 34,
   "id": "b2a1d447",
   "metadata": {},
   "outputs": [
    {
     "data": {
      "text/plain": [
       "bool"
      ]
     },
     "execution_count": 34,
     "metadata": {},
     "output_type": "execute_result"
    }
   ],
   "source": [
    "type(a1)"
   ]
  },
  {
   "cell_type": "code",
   "execution_count": 39,
   "id": "5c77ae6e",
   "metadata": {},
   "outputs": [
    {
     "data": {
      "text/plain": [
       "True"
      ]
     },
     "execution_count": 39,
     "metadata": {},
     "output_type": "execute_result"
    }
   ],
   "source": [
    "a1 | b1"
   ]
  },
  {
   "cell_type": "code",
   "execution_count": 42,
   "id": "e80eb057",
   "metadata": {},
   "outputs": [
    {
     "name": "stdout",
     "output_type": "stream",
     "text": [
      "Krish\n",
      "<class 'str'>\n"
     ]
    }
   ],
   "source": [
    "#strings\n",
    "name1=\"Krish\"\n",
    "\n",
    "print(name1)\n",
    "print(type(name1))"
   ]
  },
  {
   "cell_type": "code",
   "execution_count": 43,
   "id": "254cea9c",
   "metadata": {},
   "outputs": [
    {
     "data": {
      "text/plain": [
       "'KrishNaik'"
      ]
     },
     "execution_count": 43,
     "metadata": {},
     "output_type": "execute_result"
    }
   ],
   "source": [
    "name1+ \"Naik\""
   ]
  },
  {
   "cell_type": "code",
   "execution_count": 48,
   "id": "057885d4",
   "metadata": {},
   "outputs": [
    {
     "data": {
      "text/plain": [
       "'Krish1'"
      ]
     },
     "execution_count": 48,
     "metadata": {},
     "output_type": "execute_result"
    }
   ],
   "source": [
    "name1 + str(1)"
   ]
  },
  {
   "cell_type": "code",
   "execution_count": 49,
   "id": "a7c08b33",
   "metadata": {},
   "outputs": [
    {
     "data": {
      "text/plain": [
       "(1-2.3j)"
      ]
     },
     "execution_count": 49,
     "metadata": {},
     "output_type": "execute_result"
    }
   ],
   "source": [
    "##complex numbers\n",
    "j=1.0-2.3j\n",
    "j"
   ]
  },
  {
   "cell_type": "code",
   "execution_count": 50,
   "id": "2a3d2e1c",
   "metadata": {},
   "outputs": [
    {
     "name": "stdout",
     "output_type": "stream",
     "text": [
      "1.0 -2.3\n"
     ]
    }
   ],
   "source": [
    "print(j.real,j.imag)"
   ]
  },
  {
   "cell_type": "code",
   "execution_count": 51,
   "id": "550a1d61",
   "metadata": {},
   "outputs": [],
   "source": [
    "#Dynamic Typing\n",
    "a=10\n",
    "a='Krish'"
   ]
  },
  {
   "cell_type": "code",
   "execution_count": 53,
   "id": "370d6487",
   "metadata": {},
   "outputs": [],
   "source": [
    "#strong typing\n",
    "a=\"KRish\""
   ]
  },
  {
   "cell_type": "code",
   "execution_count": 56,
   "id": "923e9edc",
   "metadata": {},
   "outputs": [
    {
     "data": {
      "text/plain": [
       "'KRish1'"
      ]
     },
     "execution_count": 56,
     "metadata": {},
     "output_type": "execute_result"
    }
   ],
   "source": [
    "a+ str(1)"
   ]
  },
  {
   "cell_type": "code",
   "execution_count": 57,
   "id": "ba20423b",
   "metadata": {},
   "outputs": [
    {
     "name": "stdout",
     "output_type": "stream",
     "text": [
      "The values is -  100\n"
     ]
    }
   ],
   "source": [
    "#string Formatting\n",
    "\n",
    "a=100\n",
    "print(\"The values is - \",a)"
   ]
  },
  {
   "cell_type": "code",
   "execution_count": 63,
   "id": "a90f0152",
   "metadata": {},
   "outputs": [
    {
     "name": "stdout",
     "output_type": "stream",
     "text": [
      "The first name is Krish and last name is Naik\n"
     ]
    }
   ],
   "source": [
    "first_name=\"Krish\"\n",
    "last_name=\"Naik\"\n",
    "print(\"The first name is {a} and last name is {b}\".format(b=last_name,a=first_name))"
   ]
  },
  {
   "cell_type": "code",
   "execution_count": 67,
   "id": "a83a2b95",
   "metadata": {},
   "outputs": [
    {
     "name": "stdout",
     "output_type": "stream",
     "text": [
      "Enter the number A 12\n",
      "enter the number B 21\n",
      "33\n"
     ]
    }
   ],
   "source": [
    "## input type\n",
    "a=input(\"Enter the number A \")\n",
    "b=input(\"enter the number B \") \n",
    "print(int(a)+int(b))"
   ]
  },
  {
   "cell_type": "code",
   "execution_count": null,
   "id": "986517f0",
   "metadata": {},
   "outputs": [],
   "source": []
  },
  {
   "cell_type": "code",
   "execution_count": null,
   "id": "16b072eb",
   "metadata": {},
   "outputs": [],
   "source": []
  }
 ],
 "metadata": {
  "kernelspec": {
   "display_name": "Python 3 (ipykernel)",
   "language": "python",
   "name": "python3"
  },
  "language_info": {
   "codemirror_mode": {
    "name": "ipython",
    "version": 3
   },
   "file_extension": ".py",
   "mimetype": "text/x-python",
   "name": "python",
   "nbconvert_exporter": "python",
   "pygments_lexer": "ipython3",
   "version": "3.9.7"
  }
 },
 "nbformat": 4,
 "nbformat_minor": 5
}
