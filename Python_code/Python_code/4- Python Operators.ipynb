{
 "cells": [
  {
   "cell_type": "markdown",
   "id": "b347d9d2",
   "metadata": {},
   "source": [
    "## Tutorial 4- Python Operators"
   ]
  },
  {
   "cell_type": "markdown",
   "id": "d4cab35d",
   "metadata": {},
   "source": [
    "## Python Operators\n",
    "\n",
    "* Logical\n",
    "* Equality \n",
    "* Comparision\n",
    "* Arithmetic"
   ]
  },
  {
   "cell_type": "markdown",
   "id": "f6a22d81",
   "metadata": {},
   "source": [
    "### 4.1.1 Logical Operators\n",
    "In python following keywords are used for boolean operations -\n",
    "\n",
    "|Keywords | Meaning|\n",
    "|-|-|\n",
    "|**not**|unary negation|\n",
    "|**and**|conditional AND|\n",
    "|**or**|conditional OR| \n",
    "\n",
    "**EXAMPLES**:"
   ]
  },
  {
   "cell_type": "code",
   "execution_count": 20,
   "id": "4647389d",
   "metadata": {},
   "outputs": [
    {
     "data": {
      "text/plain": [
       "bool"
      ]
     },
     "execution_count": 20,
     "metadata": {},
     "output_type": "execute_result"
    }
   ],
   "source": [
    "type(False)"
   ]
  },
  {
   "cell_type": "code",
   "execution_count": 21,
   "id": "9fc47e50",
   "metadata": {},
   "outputs": [
    {
     "data": {
      "text/plain": [
       "True"
      ]
     },
     "execution_count": 21,
     "metadata": {},
     "output_type": "execute_result"
    }
   ],
   "source": [
    "bool(1)"
   ]
  },
  {
   "cell_type": "code",
   "execution_count": 22,
   "id": "3947beff",
   "metadata": {},
   "outputs": [],
   "source": [
    "a=True\n",
    "b=False"
   ]
  },
  {
   "cell_type": "code",
   "execution_count": 23,
   "id": "f576c953",
   "metadata": {},
   "outputs": [
    {
     "data": {
      "text/plain": [
       "False"
      ]
     },
     "execution_count": 23,
     "metadata": {},
     "output_type": "execute_result"
    }
   ],
   "source": [
    "True and False"
   ]
  },
  {
   "cell_type": "code",
   "execution_count": 24,
   "id": "55f5f8f7",
   "metadata": {},
   "outputs": [
    {
     "data": {
      "text/plain": [
       "True"
      ]
     },
     "execution_count": 24,
     "metadata": {},
     "output_type": "execute_result"
    }
   ],
   "source": [
    "True or False"
   ]
  },
  {
   "cell_type": "code",
   "execution_count": 26,
   "id": "3c4c15ae",
   "metadata": {},
   "outputs": [
    {
     "data": {
      "text/plain": [
       "True"
      ]
     },
     "execution_count": 26,
     "metadata": {},
     "output_type": "execute_result"
    }
   ],
   "source": [
    "not False"
   ]
  },
  {
   "cell_type": "code",
   "execution_count": 29,
   "id": "2ccf1599",
   "metadata": {},
   "outputs": [
    {
     "name": "stdout",
     "output_type": "stream",
     "text": [
      "Enter the age16\n",
      "Successful execution\n"
     ]
    }
   ],
   "source": [
    "age=int(input(\"Enter the age\"))\n",
    "if age<18 or age>=35:\n",
    "    print(\"Successful execution\")"
   ]
  },
  {
   "cell_type": "markdown",
   "id": "6c2922bb",
   "metadata": {},
   "source": [
    "### Equality Operators\n",
    "\n",
    "Following operations are present in python for equlity check operation-\n",
    "\n",
    "|Operators|Meaning|\n",
    "|-|-|\n",
    "|**is**|***a is b*** returns true if variable/identifiers a and b *points* to the *same object*|\n",
    "|**is not**|***a is not b*** returns true if variable/identifiers a and b *points* to the *different object*|\n",
    "|**==**|***a == b*** returns true if variable/identifiers a and b has same value|\n",
    "|**!=**|***a != b*** returns true if variable/identifiers a and b has different value|"
   ]
  },
  {
   "cell_type": "code",
   "execution_count": 32,
   "id": "1196c9e0",
   "metadata": {},
   "outputs": [
    {
     "data": {
      "text/plain": [
       "False"
      ]
     },
     "execution_count": 32,
     "metadata": {},
     "output_type": "execute_result"
    }
   ],
   "source": [
    "a=\"Krish\"\n",
    "b=\"Krish1\"\n",
    "\n",
    "a==b"
   ]
  },
  {
   "cell_type": "code",
   "execution_count": 34,
   "id": "bf230539",
   "metadata": {},
   "outputs": [
    {
     "name": "stdout",
     "output_type": "stream",
     "text": [
      "Enter the age18\n",
      "You are in the teenager age\n"
     ]
    }
   ],
   "source": [
    "age=int(input(\"Enter the age\"))\n",
    "\n",
    "if age==18:\n",
    "    print(\"You are in the teenager age\")"
   ]
  },
  {
   "cell_type": "code",
   "execution_count": 36,
   "id": "be08b613",
   "metadata": {},
   "outputs": [
    {
     "name": "stdout",
     "output_type": "stream",
     "text": [
      "2575134525872\n",
      "2575134525872\n"
     ]
    }
   ],
   "source": [
    "a=\"Krish\"\n",
    "b=\"Krish\"\n",
    "print(id(a))\n",
    "print(id(b))"
   ]
  },
  {
   "cell_type": "code",
   "execution_count": 37,
   "id": "57a7e9df",
   "metadata": {},
   "outputs": [
    {
     "data": {
      "text/plain": [
       "True"
      ]
     },
     "execution_count": 37,
     "metadata": {},
     "output_type": "execute_result"
    }
   ],
   "source": [
    "a is b"
   ]
  },
  {
   "cell_type": "code",
   "execution_count": 38,
   "id": "a0e32e6c",
   "metadata": {},
   "outputs": [
    {
     "name": "stdout",
     "output_type": "stream",
     "text": [
      "2575100854848\n",
      "2575100861184\n"
     ]
    }
   ],
   "source": [
    "lst=[1,2,3]\n",
    "lst1=[1,2,3]\n",
    "print(id(lst))\n",
    "print(id(lst1))"
   ]
  },
  {
   "cell_type": "code",
   "execution_count": 40,
   "id": "e264117f",
   "metadata": {},
   "outputs": [
    {
     "data": {
      "text/plain": [
       "False"
      ]
     },
     "execution_count": 40,
     "metadata": {},
     "output_type": "execute_result"
    }
   ],
   "source": [
    "lst is lst1"
   ]
  },
  {
   "cell_type": "code",
   "execution_count": 41,
   "id": "c243690b",
   "metadata": {},
   "outputs": [
    {
     "data": {
      "text/plain": [
       "True"
      ]
     },
     "execution_count": 41,
     "metadata": {},
     "output_type": "execute_result"
    }
   ],
   "source": [
    "lst is not lst1"
   ]
  },
  {
   "cell_type": "code",
   "execution_count": 42,
   "id": "d0811e63",
   "metadata": {},
   "outputs": [
    {
     "data": {
      "text/plain": [
       "True"
      ]
     },
     "execution_count": 42,
     "metadata": {},
     "output_type": "execute_result"
    }
   ],
   "source": [
    "\"Krish\"!=\"Krish1\""
   ]
  },
  {
   "cell_type": "markdown",
   "id": "d47dc6cc",
   "metadata": {},
   "source": [
    "## comparison operators\n",
    "|Operation|Meaning|\n",
    "|:-:|:-:|\n",
    "| **<** |less than|\n",
    "| **<=** |less than or equal to|\n",
    "| **>** |greater than|\n",
    "| **>=** |greater than or equal to|"
   ]
  },
  {
   "cell_type": "code",
   "execution_count": 45,
   "id": "675b4849",
   "metadata": {},
   "outputs": [
    {
     "name": "stdout",
     "output_type": "stream",
     "text": [
      "Enter the marks60\n",
      "Pass\n",
      "First\n"
     ]
    }
   ],
   "source": [
    "marks= float(input(\"Enter the marks\"))\n",
    "\n",
    "if marks>=35:\n",
    "    print(\"Pass\")\n",
    "    if marks>=50 and marks<=70:\n",
    "        print(\"First\")\n",
    "elif marks<35:\n",
    "    print(\"Fail\")"
   ]
  },
  {
   "cell_type": "markdown",
   "id": "4a2b33e0",
   "metadata": {},
   "source": [
    "## Arithmetic Operators\n",
    "|Operation|Meaning|\n",
    "|:-:|:-:|\n",
    "| **+** |addition|\n",
    "| **-** |subtraction|\n",
    "| **\\*** |multiplication|\n",
    "| **/** |true division|\n",
    "| **//** |integer division|\n",
    "| **%** |the modulo operator|"
   ]
  },
  {
   "cell_type": "code",
   "execution_count": 46,
   "id": "dd0d8766",
   "metadata": {},
   "outputs": [
    {
     "data": {
      "text/plain": [
       "48"
      ]
     },
     "execution_count": 46,
     "metadata": {},
     "output_type": "execute_result"
    }
   ],
   "source": [
    "24+24"
   ]
  },
  {
   "cell_type": "code",
   "execution_count": 47,
   "id": "936c95a4",
   "metadata": {},
   "outputs": [
    {
     "data": {
      "text/plain": [
       "24"
      ]
     },
     "execution_count": 47,
     "metadata": {},
     "output_type": "execute_result"
    }
   ],
   "source": [
    "48-24"
   ]
  },
  {
   "cell_type": "code",
   "execution_count": 48,
   "id": "a8ee8ff5",
   "metadata": {},
   "outputs": [
    {
     "data": {
      "text/plain": [
       "1152"
      ]
     },
     "execution_count": 48,
     "metadata": {},
     "output_type": "execute_result"
    }
   ],
   "source": [
    "48*24"
   ]
  },
  {
   "cell_type": "code",
   "execution_count": 49,
   "id": "b2b2e0c7",
   "metadata": {},
   "outputs": [
    {
     "data": {
      "text/plain": [
       "12.0"
      ]
     },
     "execution_count": 49,
     "metadata": {},
     "output_type": "execute_result"
    }
   ],
   "source": [
    "48/4"
   ]
  },
  {
   "cell_type": "code",
   "execution_count": 52,
   "id": "356be257",
   "metadata": {},
   "outputs": [
    {
     "data": {
      "text/plain": [
       "9"
      ]
     },
     "execution_count": 52,
     "metadata": {},
     "output_type": "execute_result"
    }
   ],
   "source": [
    "48//5"
   ]
  },
  {
   "cell_type": "code",
   "execution_count": 53,
   "id": "2702766e",
   "metadata": {},
   "outputs": [
    {
     "data": {
      "text/plain": [
       "3"
      ]
     },
     "execution_count": 53,
     "metadata": {},
     "output_type": "execute_result"
    }
   ],
   "source": [
    "48%5"
   ]
  },
  {
   "cell_type": "code",
   "execution_count": null,
   "id": "17f8f904",
   "metadata": {},
   "outputs": [],
   "source": []
  },
  {
   "cell_type": "code",
   "execution_count": null,
   "id": "9d78466b",
   "metadata": {},
   "outputs": [],
   "source": []
  },
  {
   "cell_type": "code",
   "execution_count": null,
   "id": "4b1d9253",
   "metadata": {},
   "outputs": [],
   "source": []
  },
  {
   "cell_type": "code",
   "execution_count": null,
   "id": "bcb33e6e",
   "metadata": {},
   "outputs": [],
   "source": []
  }
 ],
 "metadata": {
  "kernelspec": {
   "display_name": "Python 3 (ipykernel)",
   "language": "python",
   "name": "python3"
  },
  "language_info": {
   "codemirror_mode": {
    "name": "ipython",
    "version": 3
   },
   "file_extension": ".py",
   "mimetype": "text/x-python",
   "name": "python",
   "nbconvert_exporter": "python",
   "pygments_lexer": "ipython3",
   "version": "3.9.7"
  }
 },
 "nbformat": 4,
 "nbformat_minor": 5
}
