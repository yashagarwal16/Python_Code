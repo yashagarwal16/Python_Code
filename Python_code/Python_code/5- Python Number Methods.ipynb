{
 "cells": [
  {
   "cell_type": "markdown",
   "id": "2090d476",
   "metadata": {},
   "source": [
    "## Tutorial 5- Python Number Methods"
   ]
  },
  {
   "cell_type": "code",
   "execution_count": 1,
   "id": "26f41534",
   "metadata": {},
   "outputs": [
    {
     "data": {
      "text/plain": [
       "3"
      ]
     },
     "execution_count": 1,
     "metadata": {},
     "output_type": "execute_result"
    }
   ],
   "source": [
    "1+2"
   ]
  },
  {
   "cell_type": "markdown",
   "id": "87b4d1aa",
   "metadata": {},
   "source": [
    "### abs()\n",
    "\n",
    "`abs(x)` will return the absolute value of a number x which we pass in argument. The number x can be integer, float, complex,.."
   ]
  },
  {
   "cell_type": "code",
   "execution_count": 2,
   "id": "31da74a5",
   "metadata": {},
   "outputs": [
    {
     "data": {
      "text/plain": [
       "10"
      ]
     },
     "execution_count": 2,
     "metadata": {},
     "output_type": "execute_result"
    }
   ],
   "source": [
    "\n",
    "abs(10)"
   ]
  },
  {
   "cell_type": "code",
   "execution_count": 3,
   "id": "ba2356d8",
   "metadata": {},
   "outputs": [
    {
     "data": {
      "text/plain": [
       "20"
      ]
     },
     "execution_count": 3,
     "metadata": {},
     "output_type": "execute_result"
    }
   ],
   "source": [
    "abs(-20)"
   ]
  },
  {
   "cell_type": "code",
   "execution_count": 4,
   "id": "e9274d65",
   "metadata": {},
   "outputs": [
    {
     "data": {
      "text/plain": [
       "34.2"
      ]
     },
     "execution_count": 4,
     "metadata": {},
     "output_type": "execute_result"
    }
   ],
   "source": [
    "abs(34.20)"
   ]
  },
  {
   "cell_type": "code",
   "execution_count": 5,
   "id": "77d35db5",
   "metadata": {},
   "outputs": [
    {
     "data": {
      "text/plain": [
       "55.02"
      ]
     },
     "execution_count": 5,
     "metadata": {},
     "output_type": "execute_result"
    }
   ],
   "source": [
    "abs(-55.02)"
   ]
  },
  {
   "cell_type": "markdown",
   "id": "349e8db4",
   "metadata": {},
   "source": [
    "### ceil()\n",
    "\n",
    "ceil(x) will return the ceiling value of a number x which we pass in argument. The ceiling value of a number x will be the smallest integer not less than x\n",
    "\n",
    ">**Note** :- This function will not be accessible directly using ceil() method. Math module will be required to access this method."
   ]
  },
  {
   "cell_type": "code",
   "execution_count": 6,
   "id": "0823ec74",
   "metadata": {},
   "outputs": [],
   "source": [
    "import math"
   ]
  },
  {
   "cell_type": "code",
   "execution_count": 8,
   "id": "fa3ee924",
   "metadata": {},
   "outputs": [
    {
     "data": {
      "text/plain": [
       "44"
      ]
     },
     "execution_count": 8,
     "metadata": {},
     "output_type": "execute_result"
    }
   ],
   "source": [
    "math.ceil(43.67)"
   ]
  },
  {
   "cell_type": "code",
   "execution_count": 9,
   "id": "7c82219f",
   "metadata": {},
   "outputs": [
    {
     "data": {
      "text/plain": [
       "44"
      ]
     },
     "execution_count": 9,
     "metadata": {},
     "output_type": "execute_result"
    }
   ],
   "source": [
    "math.ceil(43.3)"
   ]
  },
  {
   "cell_type": "code",
   "execution_count": 10,
   "id": "1749056d",
   "metadata": {},
   "outputs": [
    {
     "data": {
      "text/plain": [
       "43"
      ]
     },
     "execution_count": 10,
     "metadata": {},
     "output_type": "execute_result"
    }
   ],
   "source": [
    "math.ceil(42.1)"
   ]
  },
  {
   "cell_type": "code",
   "execution_count": 11,
   "id": "befc382f",
   "metadata": {},
   "outputs": [
    {
     "data": {
      "text/plain": [
       "-44"
      ]
     },
     "execution_count": 11,
     "metadata": {},
     "output_type": "execute_result"
    }
   ],
   "source": [
    "math.ceil(-44.5)"
   ]
  },
  {
   "cell_type": "markdown",
   "id": "043fcaf2",
   "metadata": {},
   "source": [
    "## floor"
   ]
  },
  {
   "cell_type": "code",
   "execution_count": 12,
   "id": "f7cc408a",
   "metadata": {},
   "outputs": [
    {
     "data": {
      "text/plain": [
       "43"
      ]
     },
     "execution_count": 12,
     "metadata": {},
     "output_type": "execute_result"
    }
   ],
   "source": [
    "math.floor(43.1)"
   ]
  },
  {
   "cell_type": "code",
   "execution_count": 13,
   "id": "4b332a4b",
   "metadata": {},
   "outputs": [
    {
     "data": {
      "text/plain": [
       "43"
      ]
     },
     "execution_count": 13,
     "metadata": {},
     "output_type": "execute_result"
    }
   ],
   "source": [
    "math.floor(43.9)"
   ]
  },
  {
   "cell_type": "code",
   "execution_count": 14,
   "id": "f968c24a",
   "metadata": {},
   "outputs": [
    {
     "data": {
      "text/plain": [
       "-57"
      ]
     },
     "execution_count": 14,
     "metadata": {},
     "output_type": "execute_result"
    }
   ],
   "source": [
    "math.floor(-56.9)"
   ]
  },
  {
   "cell_type": "markdown",
   "id": "fb9e6939",
   "metadata": {},
   "source": [
    "## exp()\n",
    "**exp(x)** will return the exponential value of a number x which we pass in argument.\n",
    "\n",
    ">**Note:- ** This function will not be accessible directly using exp() method. Math module will be required to access this method."
   ]
  },
  {
   "cell_type": "code",
   "execution_count": 16,
   "id": "8cc4550d",
   "metadata": {},
   "outputs": [
    {
     "data": {
      "text/plain": [
       "22026.465794806718"
      ]
     },
     "execution_count": 16,
     "metadata": {},
     "output_type": "execute_result"
    }
   ],
   "source": [
    "math.exp(10)"
   ]
  },
  {
   "cell_type": "code",
   "execution_count": 17,
   "id": "88ed05ab",
   "metadata": {},
   "outputs": [
    {
     "data": {
      "text/plain": [
       "0.0009118819655545162"
      ]
     },
     "execution_count": 17,
     "metadata": {},
     "output_type": "execute_result"
    }
   ],
   "source": [
    "math.exp(-7)"
   ]
  },
  {
   "cell_type": "markdown",
   "id": "3127e58a",
   "metadata": {},
   "source": [
    "## fabs()"
   ]
  },
  {
   "cell_type": "code",
   "execution_count": 20,
   "id": "dce03996",
   "metadata": {},
   "outputs": [
    {
     "data": {
      "text/plain": [
       "10.53"
      ]
     },
     "execution_count": 20,
     "metadata": {},
     "output_type": "execute_result"
    }
   ],
   "source": [
    "math.fabs(10.53)"
   ]
  },
  {
   "cell_type": "code",
   "execution_count": 22,
   "id": "2e6510a3",
   "metadata": {},
   "outputs": [
    {
     "data": {
      "text/plain": [
       "10.0"
      ]
     },
     "execution_count": 22,
     "metadata": {},
     "output_type": "execute_result"
    }
   ],
   "source": [
    "math.fabs(-10)"
   ]
  },
  {
   "cell_type": "markdown",
   "id": "b616b07d",
   "metadata": {},
   "source": [
    "## log(x)"
   ]
  },
  {
   "cell_type": "code",
   "execution_count": 27,
   "id": "d403a6db",
   "metadata": {},
   "outputs": [
    {
     "data": {
      "text/plain": [
       "2.302585092994046"
      ]
     },
     "execution_count": 27,
     "metadata": {},
     "output_type": "execute_result"
    }
   ],
   "source": [
    "math.log(10)"
   ]
  },
  {
   "cell_type": "code",
   "execution_count": 25,
   "id": "a620e54e",
   "metadata": {},
   "outputs": [
    {
     "data": {
      "text/plain": [
       "4.182050142641207"
      ]
     },
     "execution_count": 25,
     "metadata": {},
     "output_type": "execute_result"
    }
   ],
   "source": [
    "math.log(65.5)"
   ]
  },
  {
   "cell_type": "code",
   "execution_count": 28,
   "id": "22af03fe",
   "metadata": {},
   "outputs": [
    {
     "data": {
      "text/plain": [
       "1.6020599913279623"
      ]
     },
     "execution_count": 28,
     "metadata": {},
     "output_type": "execute_result"
    }
   ],
   "source": [
    "math.log10(40)"
   ]
  },
  {
   "cell_type": "markdown",
   "id": "e3914ba6",
   "metadata": {},
   "source": [
    "## Max()"
   ]
  },
  {
   "cell_type": "code",
   "execution_count": 29,
   "id": "11508854",
   "metadata": {},
   "outputs": [
    {
     "data": {
      "text/plain": [
       "100"
      ]
     },
     "execution_count": 29,
     "metadata": {},
     "output_type": "execute_result"
    }
   ],
   "source": [
    "max(10,12,5,76,100)"
   ]
  },
  {
   "cell_type": "code",
   "execution_count": 30,
   "id": "b25572cd",
   "metadata": {},
   "outputs": [
    {
     "data": {
      "text/plain": [
       "-33"
      ]
     },
     "execution_count": 30,
     "metadata": {},
     "output_type": "execute_result"
    }
   ],
   "source": [
    "max(-55,-44,-33)"
   ]
  },
  {
   "cell_type": "markdown",
   "id": "3451ac65",
   "metadata": {},
   "source": [
    "## min()"
   ]
  },
  {
   "cell_type": "code",
   "execution_count": 31,
   "id": "f527343f",
   "metadata": {},
   "outputs": [
    {
     "data": {
      "text/plain": [
       "0"
      ]
     },
     "execution_count": 31,
     "metadata": {},
     "output_type": "execute_result"
    }
   ],
   "source": [
    "min(0,100,4,5,6,3)"
   ]
  },
  {
   "cell_type": "code",
   "execution_count": 32,
   "id": "82a94ef2",
   "metadata": {},
   "outputs": [
    {
     "data": {
      "text/plain": [
       "-1"
      ]
     },
     "execution_count": 32,
     "metadata": {},
     "output_type": "execute_result"
    }
   ],
   "source": [
    "min(-1,0)"
   ]
  },
  {
   "cell_type": "markdown",
   "id": "2eef063a",
   "metadata": {},
   "source": [
    "## pow()"
   ]
  },
  {
   "cell_type": "code",
   "execution_count": 35,
   "id": "4ab9a5cc",
   "metadata": {},
   "outputs": [
    {
     "data": {
      "text/plain": [
       "3200000.0"
      ]
     },
     "execution_count": 35,
     "metadata": {},
     "output_type": "execute_result"
    }
   ],
   "source": [
    "import math\n",
    "math.pow(20,5)"
   ]
  },
  {
   "cell_type": "code",
   "execution_count": 37,
   "id": "442ed8ec",
   "metadata": {},
   "outputs": [
    {
     "data": {
      "text/plain": [
       "-0.00032"
      ]
     },
     "execution_count": 37,
     "metadata": {},
     "output_type": "execute_result"
    }
   ],
   "source": [
    "import math\n",
    "math.pow(-5,-5)"
   ]
  },
  {
   "cell_type": "markdown",
   "id": "0fa94688",
   "metadata": {},
   "source": [
    "## sqrt()"
   ]
  },
  {
   "cell_type": "code",
   "execution_count": 38,
   "id": "ceec4123",
   "metadata": {},
   "outputs": [
    {
     "data": {
      "text/plain": [
       "4.0"
      ]
     },
     "execution_count": 38,
     "metadata": {},
     "output_type": "execute_result"
    }
   ],
   "source": [
    "math.sqrt(16)"
   ]
  },
  {
   "cell_type": "code",
   "execution_count": 40,
   "id": "14964f1f",
   "metadata": {},
   "outputs": [
    {
     "data": {
      "text/plain": [
       "3.0"
      ]
     },
     "execution_count": 40,
     "metadata": {},
     "output_type": "execute_result"
    }
   ],
   "source": [
    "math.sqrt(9)"
   ]
  },
  {
   "cell_type": "code",
   "execution_count": 41,
   "id": "c60306db",
   "metadata": {},
   "outputs": [
    {
     "data": {
      "text/plain": [
       "10.04987562112089"
      ]
     },
     "execution_count": 41,
     "metadata": {},
     "output_type": "execute_result"
    }
   ],
   "source": [
    "math.sqrt(101)"
   ]
  },
  {
   "cell_type": "markdown",
   "id": "87edd277",
   "metadata": {},
   "source": [
    "## Triggnometric functions"
   ]
  },
  {
   "cell_type": "code",
   "execution_count": 44,
   "id": "d77e1b93",
   "metadata": {},
   "outputs": [
    {
     "data": {
      "text/plain": [
       "0.0"
      ]
     },
     "execution_count": 44,
     "metadata": {},
     "output_type": "execute_result"
    }
   ],
   "source": [
    "import math\n",
    "math.sin(0)"
   ]
  },
  {
   "cell_type": "code",
   "execution_count": 45,
   "id": "0ddb113f",
   "metadata": {},
   "outputs": [
    {
     "data": {
      "text/plain": [
       "-0.4480736161291701"
      ]
     },
     "execution_count": 45,
     "metadata": {},
     "output_type": "execute_result"
    }
   ],
   "source": [
    "math.cos(90)"
   ]
  },
  {
   "cell_type": "code",
   "execution_count": 46,
   "id": "0bf138db",
   "metadata": {},
   "outputs": [
    {
     "data": {
      "text/plain": [
       "1.0"
      ]
     },
     "execution_count": 46,
     "metadata": {},
     "output_type": "execute_result"
    }
   ],
   "source": [
    "math.cos(0)"
   ]
  },
  {
   "cell_type": "code",
   "execution_count": 47,
   "id": "496680b0",
   "metadata": {},
   "outputs": [
    {
     "data": {
      "text/plain": [
       "1.6197751905438615"
      ]
     },
     "execution_count": 47,
     "metadata": {},
     "output_type": "execute_result"
    }
   ],
   "source": [
    "math.tan(45)"
   ]
  },
  {
   "cell_type": "code",
   "execution_count": 49,
   "id": "3ae99e9f",
   "metadata": {},
   "outputs": [
    {
     "data": {
      "text/plain": [
       "-1.995200412208242"
      ]
     },
     "execution_count": 49,
     "metadata": {},
     "output_type": "execute_result"
    }
   ],
   "source": [
    "math.tan(90)"
   ]
  },
  {
   "cell_type": "code",
   "execution_count": 50,
   "id": "33cadd53",
   "metadata": {},
   "outputs": [
    {
     "data": {
      "text/plain": [
       "3.6055512754639896"
      ]
     },
     "execution_count": 50,
     "metadata": {},
     "output_type": "execute_result"
    }
   ],
   "source": [
    "## hypot()\n",
    "\n",
    "math.hypot(2,3)"
   ]
  },
  {
   "cell_type": "code",
   "execution_count": null,
   "id": "da36f9d1",
   "metadata": {},
   "outputs": [],
   "source": [
    "##Assignment\n",
    "math.modf()\n",
    "\n",
    "## Program to check prime numbers\n",
    "## Program to check max of 3 numbers"
   ]
  }
 ],
 "metadata": {
  "kernelspec": {
   "display_name": "Python 3 (ipykernel)",
   "language": "python",
   "name": "python3"
  },
  "language_info": {
   "codemirror_mode": {
    "name": "ipython",
    "version": 3
   },
   "file_extension": ".py",
   "mimetype": "text/x-python",
   "name": "python",
   "nbconvert_exporter": "python",
   "pygments_lexer": "ipython3",
   "version": "3.9.7"
  }
 },
 "nbformat": 4,
 "nbformat_minor": 5
}
